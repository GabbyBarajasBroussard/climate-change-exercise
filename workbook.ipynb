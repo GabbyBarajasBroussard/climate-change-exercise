{
 "cells": [
  {
   "cell_type": "code",
   "execution_count": 1,
   "metadata": {},
   "outputs": [],
   "source": [
    "import pandas as pd\n",
    "import numpy as np\n",
    "import scipy as sp \n",
    "import os\n",
    "import sklearn.preprocessing\n",
    "from sklearn.model_selection import train_test_split\n",
    "from sklearn.linear_model import LinearRegression\n",
    "from sklearn.feature_selection import SelectKBest, RFE, f_regression\n",
    "from sklearn.impute import SimpleImputer\n",
    "from sklearn.preprocessing import StandardScaler, QuantileTransformer, PowerTransformer, RobustScaler, MinMaxScaler\n",
    "from wrangle import get_city_climate_data, prep_houston, numeric_hists\n",
    "import warnings\n",
    "warnings.filterwarnings(\"ignore\")\n",
    "pd.set_option('display.max_columns', 80)\n"
   ]
  },
  {
   "cell_type": "code",
   "execution_count": 2,
   "metadata": {},
   "outputs": [],
   "source": [
    "df= prep_houston()"
   ]
  },
  {
   "cell_type": "code",
   "execution_count": 3,
   "metadata": {},
   "outputs": [
    {
     "data": {
      "text/html": [
       "<div>\n",
       "<style scoped>\n",
       "    .dataframe tbody tr th:only-of-type {\n",
       "        vertical-align: middle;\n",
       "    }\n",
       "\n",
       "    .dataframe tbody tr th {\n",
       "        vertical-align: top;\n",
       "    }\n",
       "\n",
       "    .dataframe thead th {\n",
       "        text-align: right;\n",
       "    }\n",
       "</style>\n",
       "<table border=\"1\" class=\"dataframe\">\n",
       "  <thead>\n",
       "    <tr style=\"text-align: right;\">\n",
       "      <th></th>\n",
       "      <th>AverageTemperature</th>\n",
       "      <th>AverageTemperatureUncertainty</th>\n",
       "      <th>City</th>\n",
       "      <th>Country</th>\n",
       "      <th>Latitude</th>\n",
       "      <th>Longitude</th>\n",
       "    </tr>\n",
       "    <tr>\n",
       "      <th>dt</th>\n",
       "      <th></th>\n",
       "      <th></th>\n",
       "      <th></th>\n",
       "      <th></th>\n",
       "      <th></th>\n",
       "      <th></th>\n",
       "    </tr>\n",
       "  </thead>\n",
       "  <tbody>\n",
       "    <tr>\n",
       "      <th>1820-01-01</th>\n",
       "      <td>8.046</td>\n",
       "      <td>3.739</td>\n",
       "      <td>Houston</td>\n",
       "      <td>United States</td>\n",
       "      <td>29.74N</td>\n",
       "      <td>96.00W</td>\n",
       "    </tr>\n",
       "    <tr>\n",
       "      <th>1820-02-01</th>\n",
       "      <td>12.228</td>\n",
       "      <td>2.978</td>\n",
       "      <td>Houston</td>\n",
       "      <td>United States</td>\n",
       "      <td>29.74N</td>\n",
       "      <td>96.00W</td>\n",
       "    </tr>\n",
       "    <tr>\n",
       "      <th>1820-03-01</th>\n",
       "      <td>15.480</td>\n",
       "      <td>2.341</td>\n",
       "      <td>Houston</td>\n",
       "      <td>United States</td>\n",
       "      <td>29.74N</td>\n",
       "      <td>96.00W</td>\n",
       "    </tr>\n",
       "    <tr>\n",
       "      <th>1820-04-01</th>\n",
       "      <td>21.327</td>\n",
       "      <td>2.051</td>\n",
       "      <td>Houston</td>\n",
       "      <td>United States</td>\n",
       "      <td>29.74N</td>\n",
       "      <td>96.00W</td>\n",
       "    </tr>\n",
       "    <tr>\n",
       "      <th>1820-05-01</th>\n",
       "      <td>24.047</td>\n",
       "      <td>1.782</td>\n",
       "      <td>Houston</td>\n",
       "      <td>United States</td>\n",
       "      <td>29.74N</td>\n",
       "      <td>96.00W</td>\n",
       "    </tr>\n",
       "  </tbody>\n",
       "</table>\n",
       "</div>"
      ],
      "text/plain": [
       "            AverageTemperature  AverageTemperatureUncertainty     City  \\\n",
       "dt                                                                       \n",
       "1820-01-01               8.046                          3.739  Houston   \n",
       "1820-02-01              12.228                          2.978  Houston   \n",
       "1820-03-01              15.480                          2.341  Houston   \n",
       "1820-04-01              21.327                          2.051  Houston   \n",
       "1820-05-01              24.047                          1.782  Houston   \n",
       "\n",
       "                  Country Latitude Longitude  \n",
       "dt                                            \n",
       "1820-01-01  United States   29.74N    96.00W  \n",
       "1820-02-01  United States   29.74N    96.00W  \n",
       "1820-03-01  United States   29.74N    96.00W  \n",
       "1820-04-01  United States   29.74N    96.00W  \n",
       "1820-05-01  United States   29.74N    96.00W  "
      ]
     },
     "execution_count": 3,
     "metadata": {},
     "output_type": "execute_result"
    }
   ],
   "source": [
    "df.head()"
   ]
  },
  {
   "cell_type": "code",
   "execution_count": 5,
   "metadata": {},
   "outputs": [
    {
     "data": {
      "text/plain": [
       "<Figure size 936x648 with 0 Axes>"
      ]
     },
     "metadata": {},
     "output_type": "display_data"
    },
    {
     "data": {
      "image/png": "[encoded data removed]",
      "text/plain": [
       "<Figure size 936x648 with 2 Axes>"
      ]
     },
     "metadata": {
      "needs_background": "light"
     },
     "output_type": "display_data"
    }
   ],
   "source": [
    "hist= numeric_hists(df, bins=20)"
   ]
  },
  {
   "cell_type": "code",
   "execution_count": 6,
   "metadata": {},
   "outputs": [
    {
     "name": "stdout",
     "output_type": "stream",
     "text": [
      "<class 'pandas.core.frame.DataFrame'>\n",
      "Index: 2325 entries, 1820-01-01 to 2013-09-01\n",
      "Data columns (total 6 columns):\n",
      " #   Column                         Non-Null Count  Dtype  \n",
      "---  ------                         --------------  -----  \n",
      " 0   AverageTemperature             2325 non-null   float64\n",
      " 1   AverageTemperatureUncertainty  2325 non-null   float64\n",
      " 2   City                           2325 non-null   object \n",
      " 3   Country                        2325 non-null   object \n",
      " 4   Latitude                       2325 non-null   object \n",
      " 5   Longitude                      2325 non-null   object \n",
      "dtypes: float64(2), object(4)\n",
      "memory usage: 127.1+ KB\n"
     ]
    }
   ],
   "source": [
    "df.info()"
   ]
  },
  {
   "cell_type": "code",
   "execution_count": null,
   "metadata": {},
   "outputs": [],
   "source": []
  }
 ],
 "metadata": {
  "kernelspec": {
   "display_name": "Python 3",
   "language": "python",
   "name": "python3"
  },
  "language_info": {
   "codemirror_mode": {
    "name": "ipython",
    "version": 3
   },
   "file_extension": ".py",
   "mimetype": "text/x-python",
   "name": "python",
   "nbconvert_exporter": "python",
   "pygments_lexer": "ipython3",
   "version": "3.7.6"
  }
 },
 "nbformat": 4,
 "nbformat_minor": 4
}
